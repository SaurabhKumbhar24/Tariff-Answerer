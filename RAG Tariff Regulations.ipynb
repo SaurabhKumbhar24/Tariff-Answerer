{
 "cells": [
  {
   "cell_type": "markdown",
   "metadata": {},
   "source": [
    "# RAG Tariff Regulations Trial"
   ]
  },
  {
   "cell_type": "code",
   "execution_count": 1,
   "metadata": {},
   "outputs": [
    {
     "name": "stderr",
     "output_type": "stream",
     "text": [
      "USER_AGENT environment variable not set, consider setting it to identify your requests.\n"
     ]
    }
   ],
   "source": [
    "from langchain_community.document_loaders import TextLoader, WebBaseLoader, PyPDFLoader\n",
    "import bs4\n",
    "import os"
   ]
  },
  {
   "cell_type": "markdown",
   "metadata": {},
   "source": [
    "### Load Data"
   ]
  },
  {
   "cell_type": "code",
   "execution_count": 2,
   "metadata": {},
   "outputs": [],
   "source": [
    "loader = TextLoader(\"data/tarrifs_demo_text_file.txt\")\n",
    "text_documents = loader.load()"
   ]
  },
  {
   "cell_type": "code",
   "execution_count": 3,
   "metadata": {},
   "outputs": [],
   "source": [
    "URLs = [\n",
    "    \"https://taxfoundation.org/blog/trump-tariffs-prices-long-term-effects/\",\n",
    "]"
   ]
  },
  {
   "cell_type": "code",
   "execution_count": 4,
   "metadata": {},
   "outputs": [],
   "source": [
    "web_loader = WebBaseLoader(URLs,bs_kwargs=dict(parse_only=bs4.SoupStrainer(\n",
    "    class_=('entry-content',)\n",
    ")))"
   ]
  },
  {
   "cell_type": "code",
   "execution_count": 5,
   "metadata": {},
   "outputs": [],
   "source": [
    "text_documents1 = web_loader.load()"
   ]
  },
  {
   "cell_type": "code",
   "execution_count": 6,
   "metadata": {},
   "outputs": [
    {
     "data": {
      "text/plain": [
       "[Document(metadata={'source': 'https://taxfoundation.org/blog/trump-tariffs-prices-long-term-effects/', 'language': 'No language found.'}, page_content='\\n\\nPresident Trump acknowledges his tariffs will “short term [cause] some little pain” but claims they’ll be “worth the price that must be paid.” Trump is right that his tariffs will cause “a little disturbance,” but unfortunately, he’s wrong that with time tariffs will bring wealth and jobs creation.\\nHistory shows tariffs lead to lasting economic harm, such as lower production and incomes. Data from 151 countries from 1963 through 2014 shows higher tariffs reduce output and productivity, increase unemployment, and worsen inequality. Studies of US tariffs in 2018-2019 confirm they failed to boost employment and instead harmed manufacturing due to rising input costs and foreign retaliation.\\nWhen the United States imposes a tariffTariffs are taxes imposed by one country on goods imported from another country. Tariffs are trade barriers that raise prices, reduce available quantities of goods and services for US businesses and consumers, and create an economic burden on foreign exporters.\\n, it increases the price of imported goods for people and businesses in the United States. (In recent experience, import prices increased by nearly the full amount of the tariff, but even with less than complete “pass-through” of tariffs, import prices would rise.) Higher prices make us import less (which harms foreign businesses as US sales fall), but US production does not automatically grow as a result.\\nSuppose a US-based business sources parts from a foreign supplier to manufacture equipment in the United States. When it pays a tariff on imported parts, those higher costs will lower its profits. When the business becomes less profitable, it reduces incomes for its workers and business owners.\\nInstead of accepting lower profits, the business may increase its prices to pass the tariff along to its customers. Imagine customers usually pay $100 for the equipment, but after tariffs they pay $110. When customers pay $10 more for the same product, they have $10 less to spend elsewhere. As people spend less elsewhere, profits for other businesses fall, which reduces incomes for those workers and business owners.\\nOf course, the main purpose of taxing imported goods is to shift purchases to domestic producers, allowing them to charge higher prices and see higher sales. The US equipment manufacturer may avoid directly paying the tariff by switching to an American-made part if one is available—but this won’t erase the pain or boost US production overall.\\nTo see why switching to American-made doesn’t boost production overall takes a bit of international econ background. When imports fall, the dollar becomes stronger, which makes US exports more expensive for foreign customers. Some imports may be replaced by domestic production, but that same drop in imports causes a drop in US exports.\\nIf the equipment manufacturer switches to an American-made part, it boosts profits for the US part maker, but at the expense of the equipment manufacturer paying the higher price and US exporters overall experiencing lower sales.\\nFor this reason, tariffs are redistributive. They discourage purchases of foreign-produced goods, encourage buyers to switch to higher-priced domestically-produced goods, and place a burden on US exporters. Some domestic producers benefit but at the expense of other people and businesses in the domestic economy.\\nTariffs clearly raise costs and prices and lower production and living standards, whether we keep importing goods or switch to domestic alternatives.\\nThe tough choices and trade-offs do not go away in the long run. Instead, over time, tariffs tend to diminish productivity, decreasing how much output we get for the time and resources used. That’s because by changing incentives across different types of production, tariffs reallocate employment and investment toward higher-cost, less efficient areas of the economy.\\nFor instance, the United States is the largest exporter of aircraft, and the largest importer of textiles. Higher tariffs would incentivize manufacturing activity to move from aircraft and toward textile production, so we would producer fewer airplanes for export and more T-shirts for domestic consumption.\\nSimilar shifts would occur across the economy, incentivizing more resources to be used in producing lower-end goods we previously imported at lower prices. Increasing prices we pay for the same goods has the same effect on people as lowering their wages. Consider a real-world example of washing machine tariffs put in place in 2018 under the first Trump administration: the tariffs supported the creation of about 1,800 new factory jobs (with wages starting at $16 per hour) at a cost to US consumers of $800,000 per job.  \\nIn some cases, the US economy may not currently produce alternatives for imported goods (and it may be infeasible for some goods to rely completely on domestic supply, like coffee and bananas). In other cases, if tariffs incentivize entirely new lines of production to take place in the US, that buildout would occur over years, and would pull investment and workers away from what they would have been doing otherwise—whether higher value-added manufacturing or service sector jobs.\\nWhile tariffs would raise revenue for the US government, that revenue would come at a high cost to the American economy overall. As tariffs lead workers and investment to move toward lower-value production, we become worse off over time—not better off as President Trump imagines.\\nIf foreign countries retaliate to US tariffs, the pain is even greater. Foreign tariffs will increase prices foreign consumers pay for US exports and harm US exporters as they see sales to foreign consumers fall. Retaliatory tariffs can cause dollar depreciationDepreciation is a measurement of the “useful life” of a business asset, such as machinery or a factory, to determine the multiyear period over which the cost of that asset can be deducted from taxable income. Instead of allowing businesses to deduct the cost of investments immediately (i.e., full expensing), depreciation requires deductions to be taken over time, reducing their value and discouraging investment.\\n, which may offset some of the harms on exporters and transfer it to importers. Still, production, incomes, and employment would fall in export-heavy sectors like agriculture and manufacturing due to retaliation.\\nContrary to the president’s promises, the tariffs will cause short-term pain and long-term pain, no matter the ways people and businesses change their behavior.\\n\\ufeff   \\nStay informed on the tax policies impacting you.Subscribe to get insights from our trusted experts delivered straight to your inbox.\\nSubscribe\\n\\nShare this article\\nTwitter \\nLinkedIn\\nFacebook  \\nEmail\\n\\n')]"
      ]
     },
     "execution_count": 6,
     "metadata": {},
     "output_type": "execute_result"
    }
   ],
   "source": [
    "text_documents1"
   ]
  },
  {
   "cell_type": "code",
   "execution_count": 7,
   "metadata": {},
   "outputs": [],
   "source": [
    "pdffiles = []\n",
    "for files in os.listdir(\"data\"):\n",
    "    if files.endswith(\".pdf\"):\n",
    "        pdffiles.append(\"data/\"+files)"
   ]
  },
  {
   "cell_type": "code",
   "execution_count": 8,
   "metadata": {},
   "outputs": [
    {
     "data": {
      "text/plain": [
       "['data/CFR-2024-title15-vol1-part30.pdf',\n",
       " 'data/FTR_with_August_2023_FR_Incorporated_PUBLIC.pdf']"
      ]
     },
     "execution_count": 8,
     "metadata": {},
     "output_type": "execute_result"
    }
   ],
   "source": [
    "pdffiles"
   ]
  },
  {
   "cell_type": "code",
   "execution_count": 9,
   "metadata": {},
   "outputs": [],
   "source": [
    "pdf_loader = PyPDFLoader(pdffiles[0])\n",
    "pdf_loader2 = PyPDFLoader(pdffiles[1])"
   ]
  },
  {
   "cell_type": "code",
   "execution_count": 10,
   "metadata": {},
   "outputs": [],
   "source": [
    "text_documents3 = pdf_loader.load()\n",
    "text_documents4 = pdf_loader2.load()"
   ]
  },
  {
   "cell_type": "code",
   "execution_count": 11,
   "metadata": {},
   "outputs": [],
   "source": [
    "all_docs = text_documents + text_documents1 + text_documents3 + text_documents4"
   ]
  },
  {
   "cell_type": "code",
   "execution_count": 12,
   "metadata": {},
   "outputs": [
    {
     "data": {
      "text/plain": [
       "114"
      ]
     },
     "execution_count": 12,
     "metadata": {},
     "output_type": "execute_result"
    }
   ],
   "source": [
    "len(all_docs)"
   ]
  },
  {
   "cell_type": "markdown",
   "metadata": {},
   "source": [
    "### Transform Data"
   ]
  },
  {
   "cell_type": "code",
   "execution_count": 13,
   "metadata": {},
   "outputs": [],
   "source": [
    "from langchain.text_splitter import RecursiveCharacterTextSplitter"
   ]
  },
  {
   "cell_type": "code",
   "execution_count": 14,
   "metadata": {},
   "outputs": [],
   "source": [
    "text_splitter = RecursiveCharacterTextSplitter(chunk_size=1000,chunk_overlap=200) # Converting entire documents into chunks\n",
    "documents = text_splitter.split_documents(all_docs)"
   ]
  },
  {
   "cell_type": "markdown",
   "metadata": {},
   "source": [
    "### Vector Embeddings"
   ]
  },
  {
   "cell_type": "code",
   "execution_count": 17,
   "metadata": {},
   "outputs": [],
   "source": [
    "from langchain_community.embeddings import OllamaEmbeddings\n",
    "from langchain_community.vectorstores import FAISS"
   ]
  },
  {
   "cell_type": "code",
   "execution_count": null,
   "metadata": {},
   "outputs": [],
   "source": [
    "db = FAISS.from_documents(documents, OllamaEmbeddings(model=\"deepseek-r1\"))"
   ]
  },
  {
   "cell_type": "code",
   "execution_count": 52,
   "metadata": {},
   "outputs": [
    {
     "data": {
      "text/plain": [
       "<langchain_community.vectorstores.faiss.FAISS at 0x221fff28410>"
      ]
     },
     "execution_count": 52,
     "metadata": {},
     "output_type": "execute_result"
    }
   ],
   "source": [
    "db"
   ]
  },
  {
   "cell_type": "code",
   "execution_count": 53,
   "metadata": {},
   "outputs": [],
   "source": [
    "from langchain_community.llms import Ollama"
   ]
  },
  {
   "cell_type": "code",
   "execution_count": 54,
   "metadata": {},
   "outputs": [],
   "source": [
    "llm = Ollama(model=\"deepseek-r1\")"
   ]
  },
  {
   "cell_type": "code",
   "execution_count": 55,
   "metadata": {},
   "outputs": [],
   "source": [
    "from langchain_core.prompts import ChatPromptTemplate"
   ]
  },
  {
   "cell_type": "code",
   "execution_count": 56,
   "metadata": {},
   "outputs": [],
   "source": [
    "prompt = ChatPromptTemplate.from_template(\n",
    "    \"\"\"\n",
    "    Answer the question based on the provided context.\n",
    "    Think carefully before answering and provide a clear and concise response.\n",
    "    <context>\n",
    "    {context}\n",
    "    <context>\n",
    "    Question: {input}\n",
    "    \"\"\"\n",
    "    )"
   ]
  },
  {
   "cell_type": "code",
   "execution_count": 57,
   "metadata": {},
   "outputs": [],
   "source": [
    "from langchain.chains.combine_documents import create_stuff_documents_chain"
   ]
  },
  {
   "cell_type": "code",
   "execution_count": 58,
   "metadata": {},
   "outputs": [],
   "source": [
    "document_chain = create_stuff_documents_chain(llm, prompt)"
   ]
  },
  {
   "cell_type": "code",
   "execution_count": 59,
   "metadata": {},
   "outputs": [],
   "source": [
    "retriever = db.as_retriever()"
   ]
  },
  {
   "cell_type": "code",
   "execution_count": 60,
   "metadata": {},
   "outputs": [],
   "source": [
    "from langchain.chains import create_retrieval_chain"
   ]
  },
  {
   "cell_type": "code",
   "execution_count": 61,
   "metadata": {},
   "outputs": [],
   "source": [
    "retrieval_chain = create_retrieval_chain(retriever, document_chain)"
   ]
  },
  {
   "cell_type": "code",
   "execution_count": 63,
   "metadata": {},
   "outputs": [],
   "source": [
    "db.save_local(\"vector_storage\")"
   ]
  },
  {
   "cell_type": "code",
   "execution_count": 64,
   "metadata": {},
   "outputs": [],
   "source": [
    "query = \"Tell me about Foreign Trade Regulations?\""
   ]
  },
  {
   "cell_type": "code",
   "execution_count": 65,
   "metadata": {},
   "outputs": [
    {
     "data": {
      "text/plain": [
       "[Document(id='286e478a-5978-4f87-b2f6-e45a6f5cc283', metadata={'producer': 'iText® Core 7.2.3 (production version) ©2000-2022 iText Group NV, Government Publishing Office', 'creator': 'govinfo, U. S. Government Publishing Office', 'creationdate': '2024-07-15T19:34:38+00:00', 'moddate': '2024-07-15T15:43:03-04:00', 'source': 'data/CFR-2024-title15-vol1-part30.pdf', 'total_pages': 47, 'page': 10, 'page_label': '11'}, page_content='emption may be filed postdeparture \\nonly when the appropriate licensing \\nagency has granted the USPPI author-\\nization. See Subpart B of this part. \\n(2) Specific data elements required \\nfor EEI filing are contained in § 30.6. \\n(3) The AES downtime procedures \\nprovide uniform instructions for proc-\\nessing export transactions when the \\ngovernment’s AES or AESDirect is un-\\navailable for transmission. (See \\n§ 30.4(b)(1) and (4)). \\n(4) Instructions for particular types \\nof transactions and exemptions from \\nthese requirements are found in Sub-\\nparts C and D of this part. \\n(5) The EEI is required to be filed in \\nthe AES prior to export for shipments \\nby vessel going directly to the coun-\\ntries identified in U.S. Customs and \\nBorder Protection regulations 19 CFR \\n4.75(c) and by aircraft going directly or \\nindirectly to those countries. (See U.S. \\nCustoms and Border Protection regula-\\ntions 19 CFR 122.74(b)(2).)'),\n",
       " Document(id='bfc69255-2418-4555-9b64-db85ba4cfbc6', metadata={'producer': 'Microsoft® Word for Microsoft 365', 'creator': 'Microsoft® Word for Microsoft 365', 'creationdate': '2023-08-09T09:52:31-04:00', 'author': 'Jessica Mangubat (CENSUS/ITMD FED)', 'moddate': '2023-08-09T09:52:31-04:00', 'source': 'data/FTR_with_August_2023_FR_Incorporated_PUBLIC.pdf', 'total_pages': 65, 'page': 46, 'page_label': '47'}, page_content='in the United States where the country of ultimate destination is Canada are exempt from the \\nEEI reporting requirements of this part. \\n(b) This exemption does not apply to the following types of export shipments (These shipments \\nshall be reported in the same manner as for all other exports, except household goods, which \\nrequire limited reporting): \\n(1) Sent for storage in Canada, but ultimately destined for third countries. \\n(2) Exports moving from the United States through Canada to a third destination. \\n(3) Requiring a Department of State, DDTC, export license under the ITAR (22 CFR \\n120-130). \\n(4) Requiring a Department of Commerce, Bureau of Industry and Security, license or \\nrequiring reporting under the Export Administration Regulations (15 CFR 758.1(b)). \\n(5) Subject to the ITAR, but exempt from license requirements. \\n(6) Classified as rough diamonds under the 6-digit HS subheadings (7102.10, 7102.21, or \\n7102.31).'),\n",
       " Document(id='171a866d-9de1-4db4-8e82-ef786c1fd6ba', metadata={'producer': 'Microsoft® Word for Microsoft 365', 'creator': 'Microsoft® Word for Microsoft 365', 'creationdate': '2023-08-09T09:52:31-04:00', 'author': 'Jessica Mangubat (CENSUS/ITMD FED)', 'moddate': '2023-08-09T09:52:31-04:00', 'source': 'data/FTR_with_August_2023_FR_Incorporated_PUBLIC.pdf', 'total_pages': 65, 'page': 7, 'page_label': '8'}, page_content='8 \\n \\n \\nControlling agency. The agency responsible for the license determination on specified goods \\nexported from the United States. \\n \\nCost of goods sold. Cost of goods is the sum of expenses incurred in the USPPI acquisition or \\nproduction of the goods. \\n \\nCountry of origin. The country where the goods were mined, grown, or manufactured or where \\neach foreign material used or incorporated in a good underwent a change in tariff classification \\nindicating a substantial transformation under the applicable rule of origin for the good. The \\ncountry of origin for U.S. imports are reported in terms of the International Standards \\nOrganization (ISO) codes designated in the Schedule C, Classification of Country and Territory \\nDesignations. \\n \\nCountry of ultimate destination. The country where the goods are to be consumed, further \\nprocessed, stored, or manufactured, as known to the USPPI at the time of export. (See \\n§30.6(a)(5)).'),\n",
       " Document(id='aedfb072-2ff2-4d9a-afe9-c228933c0593', metadata={'producer': 'iText® Core 7.2.3 (production version) ©2000-2022 iText Group NV, Government Publishing Office', 'creator': 'govinfo, U. S. Government Publishing Office', 'creationdate': '2024-07-15T19:34:38+00:00', 'moddate': '2024-07-15T15:43:03-04:00', 'source': 'data/CFR-2024-title15-vol1-part30.pdf', 'total_pages': 47, 'page': 44, 'page_label': '45'}, page_content='the violations occurred; \\n(iv) The complete identities and ad-\\ndresses of all individuals and organiza-\\ntions, whether foreign or domestic, in-\\nvolved in the activities giving rise to \\nthe violations; \\n(v) A description of any mitigating \\ncircumstances; \\n(vi) Corrective measures taken; and \\n(vii) ITNs of the missed and/or cor-\\nrected shipments. \\n(4) Electronic export information. Re-\\nport all data required under the FTR \\nthat was not reported. Report correc-\\ntions for all data reported incorrectly. \\nAll reporting of unreported data or cor-\\nrections to previously reported data \\nshall be made through the AES. \\n(5) Where to make voluntary self-disclo-\\nsures. The information constituting a \\nVoluntary Self-Disclosure or any other \\ncorrespondence pertaining to a Vol-\\nuntary Self-Disclosure may be sub-\\nmitted to the U.S. Census Bureau, \\nBranch Chief, Trade Regulations \\nBranch by methods permitted by the \\nCensus Bureau. See www.census.gov/ \\ntrade for more details.')]"
      ]
     },
     "execution_count": 65,
     "metadata": {},
     "output_type": "execute_result"
    }
   ],
   "source": [
    "db.similarity_search(query)"
   ]
  },
  {
   "cell_type": "code",
   "execution_count": 66,
   "metadata": {},
   "outputs": [],
   "source": [
    "response = retrieval_chain.invoke({\"input\":query})"
   ]
  },
  {
   "cell_type": "code",
   "execution_count": 67,
   "metadata": {},
   "outputs": [
    {
     "data": {
      "text/plain": [
       "{'input': 'Tell me about Foreign Trade Regulations?',\n",
       " 'context': [Document(id='286e478a-5978-4f87-b2f6-e45a6f5cc283', metadata={'producer': 'iText® Core 7.2.3 (production version) ©2000-2022 iText Group NV, Government Publishing Office', 'creator': 'govinfo, U. S. Government Publishing Office', 'creationdate': '2024-07-15T19:34:38+00:00', 'moddate': '2024-07-15T15:43:03-04:00', 'source': 'data/CFR-2024-title15-vol1-part30.pdf', 'total_pages': 47, 'page': 10, 'page_label': '11'}, page_content='emption may be filed postdeparture \\nonly when the appropriate licensing \\nagency has granted the USPPI author-\\nization. See Subpart B of this part. \\n(2) Specific data elements required \\nfor EEI filing are contained in § 30.6. \\n(3) The AES downtime procedures \\nprovide uniform instructions for proc-\\nessing export transactions when the \\ngovernment’s AES or AESDirect is un-\\navailable for transmission. (See \\n§ 30.4(b)(1) and (4)). \\n(4) Instructions for particular types \\nof transactions and exemptions from \\nthese requirements are found in Sub-\\nparts C and D of this part. \\n(5) The EEI is required to be filed in \\nthe AES prior to export for shipments \\nby vessel going directly to the coun-\\ntries identified in U.S. Customs and \\nBorder Protection regulations 19 CFR \\n4.75(c) and by aircraft going directly or \\nindirectly to those countries. (See U.S. \\nCustoms and Border Protection regula-\\ntions 19 CFR 122.74(b)(2).)'),\n",
       "  Document(id='bfc69255-2418-4555-9b64-db85ba4cfbc6', metadata={'producer': 'Microsoft® Word for Microsoft 365', 'creator': 'Microsoft® Word for Microsoft 365', 'creationdate': '2023-08-09T09:52:31-04:00', 'author': 'Jessica Mangubat (CENSUS/ITMD FED)', 'moddate': '2023-08-09T09:52:31-04:00', 'source': 'data/FTR_with_August_2023_FR_Incorporated_PUBLIC.pdf', 'total_pages': 65, 'page': 46, 'page_label': '47'}, page_content='in the United States where the country of ultimate destination is Canada are exempt from the \\nEEI reporting requirements of this part. \\n(b) This exemption does not apply to the following types of export shipments (These shipments \\nshall be reported in the same manner as for all other exports, except household goods, which \\nrequire limited reporting): \\n(1) Sent for storage in Canada, but ultimately destined for third countries. \\n(2) Exports moving from the United States through Canada to a third destination. \\n(3) Requiring a Department of State, DDTC, export license under the ITAR (22 CFR \\n120-130). \\n(4) Requiring a Department of Commerce, Bureau of Industry and Security, license or \\nrequiring reporting under the Export Administration Regulations (15 CFR 758.1(b)). \\n(5) Subject to the ITAR, but exempt from license requirements. \\n(6) Classified as rough diamonds under the 6-digit HS subheadings (7102.10, 7102.21, or \\n7102.31).'),\n",
       "  Document(id='171a866d-9de1-4db4-8e82-ef786c1fd6ba', metadata={'producer': 'Microsoft® Word for Microsoft 365', 'creator': 'Microsoft® Word for Microsoft 365', 'creationdate': '2023-08-09T09:52:31-04:00', 'author': 'Jessica Mangubat (CENSUS/ITMD FED)', 'moddate': '2023-08-09T09:52:31-04:00', 'source': 'data/FTR_with_August_2023_FR_Incorporated_PUBLIC.pdf', 'total_pages': 65, 'page': 7, 'page_label': '8'}, page_content='8 \\n \\n \\nControlling agency. The agency responsible for the license determination on specified goods \\nexported from the United States. \\n \\nCost of goods sold. Cost of goods is the sum of expenses incurred in the USPPI acquisition or \\nproduction of the goods. \\n \\nCountry of origin. The country where the goods were mined, grown, or manufactured or where \\neach foreign material used or incorporated in a good underwent a change in tariff classification \\nindicating a substantial transformation under the applicable rule of origin for the good. The \\ncountry of origin for U.S. imports are reported in terms of the International Standards \\nOrganization (ISO) codes designated in the Schedule C, Classification of Country and Territory \\nDesignations. \\n \\nCountry of ultimate destination. The country where the goods are to be consumed, further \\nprocessed, stored, or manufactured, as known to the USPPI at the time of export. (See \\n§30.6(a)(5)).'),\n",
       "  Document(id='aedfb072-2ff2-4d9a-afe9-c228933c0593', metadata={'producer': 'iText® Core 7.2.3 (production version) ©2000-2022 iText Group NV, Government Publishing Office', 'creator': 'govinfo, U. S. Government Publishing Office', 'creationdate': '2024-07-15T19:34:38+00:00', 'moddate': '2024-07-15T15:43:03-04:00', 'source': 'data/CFR-2024-title15-vol1-part30.pdf', 'total_pages': 47, 'page': 44, 'page_label': '45'}, page_content='the violations occurred; \\n(iv) The complete identities and ad-\\ndresses of all individuals and organiza-\\ntions, whether foreign or domestic, in-\\nvolved in the activities giving rise to \\nthe violations; \\n(v) A description of any mitigating \\ncircumstances; \\n(vi) Corrective measures taken; and \\n(vii) ITNs of the missed and/or cor-\\nrected shipments. \\n(4) Electronic export information. Re-\\nport all data required under the FTR \\nthat was not reported. Report correc-\\ntions for all data reported incorrectly. \\nAll reporting of unreported data or cor-\\nrections to previously reported data \\nshall be made through the AES. \\n(5) Where to make voluntary self-disclo-\\nsures. The information constituting a \\nVoluntary Self-Disclosure or any other \\ncorrespondence pertaining to a Vol-\\nuntary Self-Disclosure may be sub-\\nmitted to the U.S. Census Bureau, \\nBranch Chief, Trade Regulations \\nBranch by methods permitted by the \\nCensus Bureau. See www.census.gov/ \\ntrade for more details.')],\n",
       " 'answer': \"<think>\\nOkay, so I need to answer a question about Foreign Trade Regulations based on the provided context. Let me read through the context carefully and pick out the relevant information.\\n\\nFirst, the context mentions several sections of a larger document. It talks about Import Exports (EEI) requirements, AES downtime procedures, specific instructions for transactions in Subparts C and D, and exceptions for certain countries like Canada. There's also a section on the ITAR and EAR regulations which affect exports from the U.S.\\n\\nIt seems that the context is outlining different parts of the Foreign Trade Regulations, specifically focusing on import/export reporting requirements (EEI), how to handle downtimes in AES systems, the country of origin rules for cost of goods sold, and exceptions such as when exporting to Canada. Additionally, it covers reporting procedures like electronic exports information and voluntary self-disclosures.\\n\\nI should structure my answer by breaking down these sections into key points: EEI requirements, AES processing, ITAR/EAR regulations, and specific exemptions like the one for Canada.\\n</think>\\n\\nThe Foreign Trade Regulations encompass several key areas:\\n\\n1. **Export and Import Requirements (EEI):**\\n   - Exports must be filed with the AES (Application for Emergency Sales Information) before shipment to certain countries, such as those listed in 19 CFR 4.75(c).\\n   - There are exemptions for shipments destined for Canada under U.S. Customs regulations.\\n\\n2. **Processing of Export Transactions:**\\n   - AES downtime procedures provide guidelines for handling export transactions when the AES or AESDirect is unavailable.\\n   - Specific instructions for various transaction types and exemptions can be found in Subparts C and D.\\n\\n3. **Regulations on Licenses:**\\n   - Exports requiring Department of State, DDTC licenses, or those under ITAR (22 CFR 120-130) must comply with respective regulations.\\n   - Items classified as rough diamonds under specific HS codes are exempt from certain license requirements.\\n\\n4. **Reporting and Compliance:**\\n   - Compliance involves reporting all data required by the FTR, correcting inaccuracies promptly, and submitting ITNs for missed or corrected shipments.\\n   - Electronic reporting is conducted through the AES, with corrections made accordingly.\\n\\n5. **Self-Disclosures:**\\n   - Voluntary self-disclosures can be reported to the U.S. Census Bureau via specified methods on their website (www.census.gov/trade).\\n\\nThese points outline the structure and key elements of the Foreign Trade Regulations as detailed in the context.\"}"
      ]
     },
     "execution_count": 67,
     "metadata": {},
     "output_type": "execute_result"
    }
   ],
   "source": [
    "response"
   ]
  }
 ],
 "metadata": {
  "kernelspec": {
   "display_name": "Python 3",
   "language": "python",
   "name": "python3"
  },
  "language_info": {
   "codemirror_mode": {
    "name": "ipython",
    "version": 3
   },
   "file_extension": ".py",
   "mimetype": "text/x-python",
   "name": "python",
   "nbconvert_exporter": "python",
   "pygments_lexer": "ipython3",
   "version": "3.11.4"
  }
 },
 "nbformat": 4,
 "nbformat_minor": 2
}
